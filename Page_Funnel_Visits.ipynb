{
  "cells": [
    {
      "cell_type": "markdown",
      "metadata": {
        "id": "view-in-github",
        "colab_type": "text"
      },
      "source": [
        "<a href=\"https://colab.research.google.com/github/JorgeEdu018/Base-de-datos-de-una-pizzeria/blob/main/Page_Funnel_Visits.ipynb\" target=\"_parent\"><img src=\"https://colab.research.google.com/assets/colab-badge.svg\" alt=\"Open In Colab\"/></a>"
      ]
    },
    {
      "cell_type": "code",
      "execution_count": 2,
      "metadata": {
        "id": "yOpSMpISuFYj"
      },
      "outputs": [],
      "source": [
        "import pandas as pd"
      ]
    },
    {
      "cell_type": "markdown",
      "metadata": {
        "id": "f5ZC7yQjuFYn"
      },
      "source": [
        "Import all the files"
      ]
    },
    {
      "cell_type": "code",
      "execution_count": 5,
      "metadata": {
        "id": "W2v0poD7uFYq"
      },
      "outputs": [],
      "source": [
        "visits = pd.read_csv('visits.csv',\n",
        "                     parse_dates=[1])\n",
        "cart = pd.read_csv('cart.csv',\n",
        "                   parse_dates=[1])\n",
        "                   \n",
        "checkout = pd.read_csv('checkout.csv',\n",
        "                       parse_dates=[1])\n",
        "purchase = pd.read_csv('purchase.csv',\n",
        "                       parse_dates=[1])"
      ]
    },
    {
      "cell_type": "markdown",
      "metadata": {
        "id": "tHpnMDwAuFYt"
      },
      "source": [
        "Step 1: Inspect the DataFrames using `print` and `head`"
      ]
    },
    {
      "cell_type": "code",
      "execution_count": 6,
      "metadata": {
        "colab": {
          "base_uri": "https://localhost:8080/"
        },
        "id": "2myLC8eOuFYu",
        "outputId": "8a37b834-f8a0-4a35-ea5e-535d1a1b45d6"
      },
      "outputs": [
        {
          "output_type": "stream",
          "name": "stdout",
          "text": [
            "                                user_id          visit_time\n",
            "0  943647ef-3682-4750-a2e1-918ba6f16188 2017-04-07 15:14:00\n",
            "1  0c3a3dd0-fb64-4eac-bf84-ba069ce409f2 2017-01-26 14:24:00\n",
            "2  6e0b2d60-4027-4d9a-babd-0e7d40859fb1 2017-08-20 08:23:00\n",
            "3  6879527e-c5a6-4d14-b2da-50b85212b0ab 2017-11-04 18:15:00\n",
            "4  a84327ff-5daa-4ba1-b789-d5b4caf81e96 2017-02-27 11:25:00\n",
            "                                user_id           cart_time\n",
            "0  2be90e7c-9cca-44e0-bcc5-124b945ff168 2017-11-07 20:45:00\n",
            "1  4397f73f-1da3-4ab3-91af-762792e25973 2017-05-27 01:35:00\n",
            "2  a9db3d4b-0a0a-4398-a55a-ebb2c7adf663 2017-03-04 10:38:00\n",
            "3  b594862a-36c5-47d5-b818-6e9512b939b3 2017-09-27 08:22:00\n",
            "4  a68a16e2-94f0-4ce8-8ce3-784af0bbb974 2017-07-26 15:48:00\n",
            "                                user_id       checkout_time\n",
            "0  d33bdc47-4afa-45bc-b4e4-dbe948e34c0d 2017-06-25 09:29:00\n",
            "1  4ac186f0-9954-4fea-8a27-c081e428e34e 2017-04-07 20:11:00\n",
            "2  3c9c78a7-124a-4b77-8d2e-e1926e011e7d 2017-07-13 11:38:00\n",
            "3  89fe330a-8966-4756-8f7c-3bdbcd47279a 2017-04-20 16:15:00\n",
            "4  3ccdaf69-2d30-40de-b083-51372881aedd 2017-01-08 20:52:00\n",
            "                                user_id       purchase_time\n",
            "0  4b44ace4-2721-47a0-b24b-15fbfa2abf85 2017-05-11 04:25:00\n",
            "1  02e684ae-a448-408f-a9ff-dcb4a5c99aac 2017-09-05 08:45:00\n",
            "2  4b4bc391-749e-4b90-ab8f-4f6e3c84d6dc 2017-11-20 20:49:00\n",
            "3  a5dbb25f-3c36-4103-9030-9f7c6241cd8d 2017-01-22 15:18:00\n",
            "4  46a3186d-7f5a-4ab9-87af-84d05bfd4867 2017-06-11 11:32:00\n"
          ]
        }
      ],
      "source": [
        "print(visits.head(5))\n",
        "print(cart.head(5))\n",
        "print(checkout.head(5))\n",
        "print(purchase.head(5))"
      ]
    },
    {
      "cell_type": "markdown",
      "metadata": {
        "id": "zSsc-JhkuFYx"
      },
      "source": [
        "Step 2: Left merging visits and cart"
      ]
    },
    {
      "cell_type": "code",
      "execution_count": 7,
      "metadata": {
        "colab": {
          "base_uri": "https://localhost:8080/"
        },
        "id": "4mBxOQQpuFYz",
        "outputId": "038410cf-1f23-4037-b1bc-ede1f9ec5506"
      },
      "outputs": [
        {
          "output_type": "stream",
          "name": "stdout",
          "text": [
            "                                   user_id          visit_time  \\\n",
            "0     943647ef-3682-4750-a2e1-918ba6f16188 2017-04-07 15:14:00   \n",
            "1     0c3a3dd0-fb64-4eac-bf84-ba069ce409f2 2017-01-26 14:24:00   \n",
            "2     6e0b2d60-4027-4d9a-babd-0e7d40859fb1 2017-08-20 08:23:00   \n",
            "3     6879527e-c5a6-4d14-b2da-50b85212b0ab 2017-11-04 18:15:00   \n",
            "4     a84327ff-5daa-4ba1-b789-d5b4caf81e96 2017-02-27 11:25:00   \n",
            "...                                    ...                 ...   \n",
            "1995  33913ac2-03da-45ae-8fc3-fea39df827c6 2017-03-25 03:29:00   \n",
            "1996  4f850132-b99d-4623-80e6-6e61d003577e 2017-01-08 09:57:00   \n",
            "1997  f0830b9b-1f5c-4e74-b63d-3f847cc6ce70 2017-09-07 12:56:00   \n",
            "1998  b01bffa7-63ba-4cd3-9d93-eb1477c23831 2017-07-20 04:37:00   \n",
            "1999  0336ca81-8d68-443f-9248-ac0b8ad147d5 2017-11-15 10:11:00   \n",
            "\n",
            "               cart_time  \n",
            "0                    NaT  \n",
            "1    2017-01-26 14:44:00  \n",
            "2    2017-08-20 08:31:00  \n",
            "3                    NaT  \n",
            "4                    NaT  \n",
            "...                  ...  \n",
            "1995                 NaT  \n",
            "1996                 NaT  \n",
            "1997                 NaT  \n",
            "1998                 NaT  \n",
            "1999                 NaT  \n",
            "\n",
            "[2000 rows x 3 columns]\n"
          ]
        }
      ],
      "source": [
        "visits_cart = visits.merge(cart, how = 'left')\n",
        "print(visits_cart)\n"
      ]
    },
    {
      "cell_type": "markdown",
      "metadata": {
        "id": "r6udzHc3uFY0"
      },
      "source": [
        "Step 3: How long is `visits_cart`?"
      ]
    },
    {
      "cell_type": "code",
      "execution_count": 8,
      "metadata": {
        "id": "m0OrW8n0uFY2",
        "colab": {
          "base_uri": "https://localhost:8080/"
        },
        "outputId": "5dd10020-9e35-440a-bb3e-33a251f3c4d3"
      },
      "outputs": [
        {
          "output_type": "stream",
          "name": "stdout",
          "text": [
            "2000\n"
          ]
        }
      ],
      "source": [
        "Total_visits = len(visits_cart)\n",
        "print(Total_visits)"
      ]
    },
    {
      "cell_type": "markdown",
      "metadata": {
        "id": "KXdz9DzLuFY3"
      },
      "source": [
        "Step 4: How many timestamps are null for `cart_time`?"
      ]
    },
    {
      "cell_type": "code",
      "execution_count": 9,
      "metadata": {
        "id": "jFcD3crfuFY4",
        "colab": {
          "base_uri": "https://localhost:8080/"
        },
        "outputId": "f540c270-4164-4aff-e458-b8b9f3857a8f"
      },
      "outputs": [
        {
          "output_type": "stream",
          "name": "stdout",
          "text": [
            "1652\n"
          ]
        }
      ],
      "source": [
        "CT = len(visits_cart[visits_cart.cart_time.isnull()])\n",
        "print(CT)"
      ]
    },
    {
      "cell_type": "markdown",
      "metadata": {
        "id": "D_-HcyYTuFY6"
      },
      "source": [
        "Step 5: What percentage only visited?"
      ]
    },
    {
      "cell_type": "code",
      "execution_count": 10,
      "metadata": {
        "id": "3UYd2oDkuFY7",
        "colab": {
          "base_uri": "https://localhost:8080/"
        },
        "outputId": "cdd55652-c467-46f9-8b60-8d249090947e"
      },
      "outputs": [
        {
          "output_type": "stream",
          "name": "stdout",
          "text": [
            "0.826\n"
          ]
        }
      ],
      "source": [
        "Percentege_visited = CT/Total_visits\n",
        "print(Percentege_visited)"
      ]
    },
    {
      "cell_type": "markdown",
      "metadata": {
        "id": "ZTBds5WmuFY7"
      },
      "source": [
        "Step 6: What percentage placed a t-shirt in their cart but did not checkout?"
      ]
    },
    {
      "cell_type": "code",
      "execution_count": 11,
      "metadata": {
        "id": "32N9mYDpuFY8",
        "colab": {
          "base_uri": "https://localhost:8080/"
        },
        "outputId": "4baa2b16-2af0-4ff3-c161-d6b1175f89f6"
      },
      "outputs": [
        {
          "output_type": "stream",
          "name": "stdout",
          "text": [
            "                                  user_id           cart_time  \\\n",
            "0    2be90e7c-9cca-44e0-bcc5-124b945ff168 2017-11-07 20:45:00   \n",
            "1    4397f73f-1da3-4ab3-91af-762792e25973 2017-05-27 01:35:00   \n",
            "2    a9db3d4b-0a0a-4398-a55a-ebb2c7adf663 2017-03-04 10:38:00   \n",
            "3    b594862a-36c5-47d5-b818-6e9512b939b3 2017-09-27 08:22:00   \n",
            "4    a68a16e2-94f0-4ce8-8ce3-784af0bbb974 2017-07-26 15:48:00   \n",
            "..                                    ...                 ...   \n",
            "343  952be3a5-9240-484f-845c-a6b2cbed72ee 2017-05-02 05:40:00   \n",
            "344  59d2b685-383a-4fce-a325-35d985713a8b 2017-01-20 03:58:00   \n",
            "345  a1203970-92ae-4fc7-843e-e1740c1be9d5 2017-11-12 23:07:00   \n",
            "346  55de53ae-89f6-43ff-a26d-df284678aca1 2017-03-17 19:56:00   \n",
            "347  0ea4cc68-dae4-4e35-b3e0-f0889932e1b5 2017-05-12 08:53:00   \n",
            "\n",
            "          checkout_time  \n",
            "0   2017-11-07 21:14:00  \n",
            "1                   NaT  \n",
            "2   2017-03-04 11:04:00  \n",
            "3   2017-09-27 08:26:00  \n",
            "4                   NaT  \n",
            "..                  ...  \n",
            "343 2017-05-02 05:50:00  \n",
            "344                 NaT  \n",
            "345                 NaT  \n",
            "346 2017-03-17 20:04:00  \n",
            "347 2017-05-12 08:57:00  \n",
            "\n",
            "[348 rows x 3 columns]\n",
            "122\n",
            "Cart but not checkout: 0.3505747126436782\n"
          ]
        }
      ],
      "source": [
        "cart_checkout = cart.merge(checkout, how = 'left')\n",
        "print(cart_checkout)\n",
        "null_car_checkout = len(cart_checkout[cart_checkout.checkout_time.isnull()])\n",
        "print(null_car_checkout)\n",
        "cart_not_check = float(null_car_checkout) / float(len(cart))\n",
        "print(\"Cart but not checkout:\", cart_not_check)"
      ]
    },
    {
      "cell_type": "markdown",
      "metadata": {
        "id": "5rg9NjZhuFY8"
      },
      "source": [
        "Step 7: Merge it all together"
      ]
    },
    {
      "cell_type": "code",
      "execution_count": 12,
      "metadata": {
        "id": "FuJjNMJauFZE",
        "colab": {
          "base_uri": "https://localhost:8080/"
        },
        "outputId": "2ea15cf8-bdf2-4db3-a3b4-49f0d56825a8"
      },
      "outputs": [
        {
          "output_type": "stream",
          "name": "stdout",
          "text": [
            "                                   user_id          visit_time  \\\n",
            "0     943647ef-3682-4750-a2e1-918ba6f16188 2017-04-07 15:14:00   \n",
            "1     0c3a3dd0-fb64-4eac-bf84-ba069ce409f2 2017-01-26 14:24:00   \n",
            "2     6e0b2d60-4027-4d9a-babd-0e7d40859fb1 2017-08-20 08:23:00   \n",
            "3     6879527e-c5a6-4d14-b2da-50b85212b0ab 2017-11-04 18:15:00   \n",
            "4     a84327ff-5daa-4ba1-b789-d5b4caf81e96 2017-02-27 11:25:00   \n",
            "...                                    ...                 ...   \n",
            "2103  33913ac2-03da-45ae-8fc3-fea39df827c6 2017-03-25 03:29:00   \n",
            "2104  4f850132-b99d-4623-80e6-6e61d003577e 2017-01-08 09:57:00   \n",
            "2105  f0830b9b-1f5c-4e74-b63d-3f847cc6ce70 2017-09-07 12:56:00   \n",
            "2106  b01bffa7-63ba-4cd3-9d93-eb1477c23831 2017-07-20 04:37:00   \n",
            "2107  0336ca81-8d68-443f-9248-ac0b8ad147d5 2017-11-15 10:11:00   \n",
            "\n",
            "               cart_time       checkout_time       purchase_time  \n",
            "0                    NaT                 NaT                 NaT  \n",
            "1    2017-01-26 14:44:00 2017-01-26 14:54:00 2017-01-26 15:08:00  \n",
            "2    2017-08-20 08:31:00                 NaT                 NaT  \n",
            "3                    NaT                 NaT                 NaT  \n",
            "4                    NaT                 NaT                 NaT  \n",
            "...                  ...                 ...                 ...  \n",
            "2103                 NaT                 NaT                 NaT  \n",
            "2104                 NaT                 NaT                 NaT  \n",
            "2105                 NaT                 NaT                 NaT  \n",
            "2106                 NaT                 NaT                 NaT  \n",
            "2107                 NaT                 NaT                 NaT  \n",
            "\n",
            "[2108 rows x 5 columns]\n"
          ]
        }
      ],
      "source": [
        "all_data = visits_cart.merge(cart_checkout, how='left').merge(purchase, how='left')\n",
        "\n",
        "print(all_data)\n"
      ]
    },
    {
      "cell_type": "markdown",
      "metadata": {
        "id": "a71gzWN2uFZG"
      },
      "source": [
        "Step 8: % of users who got to checkout but did not purchase"
      ]
    },
    {
      "cell_type": "code",
      "execution_count": 17,
      "metadata": {
        "id": "49dPjLfluFZI",
        "colab": {
          "base_uri": "https://localhost:8080/"
        },
        "outputId": "0c99066f-04ee-4146-a81f-c7d1acb65a0d"
      },
      "outputs": [
        {
          "output_type": "stream",
          "name": "stdout",
          "text": [
            "% of users who got to checkout but did not purchase: 0.24550898203592814\n"
          ]
        }
      ],
      "source": [
        "reached_checkout = all_data[~all_data.checkout_time.isnull()]\n",
        "checkout_not_purchase = all_data[(all_data.purchase_time.isnull()) & (~all_data.checkout_time.isnull())]\n",
        "checkout_not_purchase_percent = float(len(checkout_not_purchase)) / float(len(reached_checkout))\n",
        "\n",
        "print(\"% of users who got to checkout but did not purchase:\",checkout_not_purchase_percent)"
      ]
    },
    {
      "cell_type": "markdown",
      "metadata": {
        "id": "aC8-8W3suFZJ"
      },
      "source": [
        "Step 9: check each part of the funnel, let's print all 3 of them again"
      ]
    },
    {
      "cell_type": "code",
      "execution_count": 20,
      "metadata": {
        "id": "wXoJPMl1uFZK",
        "colab": {
          "base_uri": "https://localhost:8080/"
        },
        "outputId": "2e6d1456-56f8-4752-bcc9-3f828df3632d"
      },
      "outputs": [
        {
          "output_type": "stream",
          "name": "stdout",
          "text": [
            "82.6 percent of users who visited the page did not add a t-shirt to their cart\n",
            "35.06 percent of users who added a t-shirt to their cart did not checkout\n",
            "24.55 percent of users who made it to checkout  did not purchase a shirt\n"
          ]
        }
      ],
      "source": [
        "print(\"{} percent of users who visited the page did not add a t-shirt to their cart\".format(round(Percentege_visited*100, 2)))\n",
        "print(\"{} percent of users who added a t-shirt to their cart did not checkout\".format(round(cart_not_check*100, 2)))\n",
        "print(\"{} percent of users who made it to checkout  did not purchase a shirt\".format(round( checkout_not_purchase_percent*100, 2)))\n"
      ]
    },
    {
      "cell_type": "markdown",
      "metadata": {
        "id": "UwiHlWP2uFZL"
      },
      "source": [
        "*The weakest part of the funnel is clearly getting a person who visited the site to add a tshirt to their cart. Once they've added a t-shirt to their cart it is fairly likely they end up purchasing it. A suggestion could be to make the add-to-cart button more prominent on the front page.*\n",
        "\n",
        "\n",
        "Step 10: adding new column"
      ]
    },
    {
      "cell_type": "code",
      "execution_count": 23,
      "metadata": {
        "id": "-4PTBkHBuFZM"
      },
      "outputs": [],
      "source": [
        "all_data['time_to_purchase'] = all_data.purchase_time - all_data.visit_time"
      ]
    },
    {
      "cell_type": "markdown",
      "metadata": {
        "id": "mOX4olOeuFZM"
      },
      "source": [
        "Step 11: examine the results"
      ]
    },
    {
      "cell_type": "code",
      "execution_count": 24,
      "metadata": {
        "id": "TyseWXCSuFZO",
        "colab": {
          "base_uri": "https://localhost:8080/"
        },
        "outputId": "cb92681d-c93a-41ee-d02d-f9b73f7bceae"
      },
      "outputs": [
        {
          "output_type": "stream",
          "name": "stdout",
          "text": [
            "0                  NaT\n",
            "1      0 days 00:44:00\n",
            "2                  NaT\n",
            "3                  NaT\n",
            "4                  NaT\n",
            "             ...      \n",
            "2103               NaT\n",
            "2104               NaT\n",
            "2105               NaT\n",
            "2106               NaT\n",
            "2107               NaT\n",
            "Name: time_to_purchase, Length: 2108, dtype: timedelta64[ns]\n"
          ]
        }
      ],
      "source": [
        "print(all_data.time_to_purchase)"
      ]
    },
    {
      "cell_type": "markdown",
      "metadata": {
        "id": "oGmgJpYeuFZP"
      },
      "source": [
        "Step 12: average time to purchase"
      ]
    },
    {
      "cell_type": "code",
      "execution_count": 25,
      "metadata": {
        "id": "eQGYhrbcuFZR",
        "colab": {
          "base_uri": "https://localhost:8080/"
        },
        "outputId": "844da76e-514b-4c61-b122-4f9403021a26"
      },
      "outputs": [
        {
          "output_type": "stream",
          "name": "stdout",
          "text": [
            "0 days 00:43:12.380952380\n"
          ]
        }
      ],
      "source": [
        "print(all_data.time_to_purchase.mean())"
      ]
    },
    {
      "cell_type": "code",
      "execution_count": null,
      "metadata": {
        "id": "8hO8P_lmuFZS"
      },
      "outputs": [],
      "source": []
    }
  ],
  "metadata": {
    "kernelspec": {
      "display_name": "Python 3",
      "language": "python",
      "name": "python3"
    },
    "language_info": {
      "codemirror_mode": {
        "name": "ipython",
        "version": 3
      },
      "file_extension": ".py",
      "mimetype": "text/x-python",
      "name": "python",
      "nbconvert_exporter": "python",
      "pygments_lexer": "ipython3",
      "version": "3.8.5"
    },
    "colab": {
      "provenance": [],
      "include_colab_link": true
    }
  },
  "nbformat": 4,
  "nbformat_minor": 0
}